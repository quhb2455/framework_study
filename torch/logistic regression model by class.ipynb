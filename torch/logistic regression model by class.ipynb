{
 "cells": [
  {
   "cell_type": "code",
   "execution_count": 3,
   "metadata": {},
   "outputs": [
    {
     "data": {
      "text/plain": [
       "<torch._C.Generator at 0x173a7fee3d0>"
      ]
     },
     "execution_count": 3,
     "metadata": {},
     "output_type": "execute_result"
    }
   ],
   "source": [
    "import torch\n",
    "import torch.nn as nn\n",
    "import torch.nn.functional as F\n",
    "import torch.optim as optim\n",
    "\n",
    "torch.manual_seed(1)"
   ]
  },
  {
   "cell_type": "code",
   "execution_count": 4,
   "metadata": {},
   "outputs": [],
   "source": [
    "x_data = [[1, 2], [2, 3], [3, 1], [4, 3], [5, 3], [6, 2]]\n",
    "y_data = [[0], [0], [0], [1], [1], [1]]\n",
    "x_train = torch.FloatTensor(x_data)\n",
    "y_train = torch.FloatTensor(y_data)"
   ]
  },
  {
   "cell_type": "code",
   "execution_count": 5,
   "metadata": {},
   "outputs": [],
   "source": [
    "class BinaryClassifier(nn.Module) :\n",
    "    def __init__(self):\n",
    "        super().__init__()\n",
    "        self.linear = nn.Linear(2,1)\n",
    "        self.sigmoid = nn.Sigmoid()\n",
    "        \n",
    "    def forward(self, x) :\n",
    "        return self.sigmoid(self.linear(x))"
   ]
  },
  {
   "cell_type": "code",
   "execution_count": 6,
   "metadata": {},
   "outputs": [],
   "source": [
    "model = BinaryClassifier()"
   ]
  },
  {
   "cell_type": "code",
   "execution_count": 7,
   "metadata": {},
   "outputs": [
    {
     "name": "stdout",
     "output_type": "stream",
     "text": [
      "Epochs : 0/1000 Cost : 0.5397131443023682 Accuract : 83.33333333333334\n",
      "Epochs : 100/1000 Cost : 0.1342717856168747 Accuract : 100.0\n",
      "Epochs : 200/1000 Cost : 0.08048570901155472 Accuract : 100.0\n",
      "Epochs : 300/1000 Cost : 0.05782032385468483 Accuract : 100.0\n",
      "Epochs : 400/1000 Cost : 0.04525138437747955 Accuract : 100.0\n",
      "Epochs : 500/1000 Cost : 0.03722849115729332 Accuract : 100.0\n",
      "Epochs : 600/1000 Cost : 0.031649164855480194 Accuract : 100.0\n",
      "Epochs : 700/1000 Cost : 0.02753829024732113 Accuract : 100.0\n",
      "Epochs : 800/1000 Cost : 0.024380533024668694 Accuract : 100.0\n",
      "Epochs : 900/1000 Cost : 0.02187720499932766 Accuract : 100.0\n",
      "Epochs : 1000/1000 Cost : 0.019843051210045815 Accuract : 100.0\n"
     ]
    }
   ],
   "source": [
    "optimizer = optim.SGD(model.parameters(), lr=1)\n",
    "\n",
    "epochs = 1000\n",
    "\n",
    "for e in range(epochs+1):\n",
    "    \n",
    "    pred = model(x_train)\n",
    "    cost = F.binary_cross_entropy(pred, y_train)\n",
    "    \n",
    "    optimizer.zero_grad()\n",
    "    cost.backward()\n",
    "    optimizer.step()\n",
    "    \n",
    "    if e % 100 == 0 :\n",
    "        \n",
    "        prediction = pred >= torch.FloatTensor([0.5])\n",
    "        correct = prediction.float() == y_train\n",
    "        accuracy = correct.sum().item() / len(correct)\n",
    "        \n",
    "        print(\"Epochs : {}/{} Cost : {} Accuract : {}\".format(e, epochs, cost.item(), accuracy*100))"
   ]
  },
  {
   "cell_type": "code",
   "execution_count": null,
   "metadata": {},
   "outputs": [],
   "source": []
  }
 ],
 "metadata": {
  "kernelspec": {
   "display_name": "Python 3",
   "language": "python",
   "name": "python3"
  },
  "language_info": {
   "codemirror_mode": {
    "name": "ipython",
    "version": 3
   },
   "file_extension": ".py",
   "mimetype": "text/x-python",
   "name": "python",
   "nbconvert_exporter": "python",
   "pygments_lexer": "ipython3",
   "version": "3.7.6"
  }
 },
 "nbformat": 4,
 "nbformat_minor": 4
}
