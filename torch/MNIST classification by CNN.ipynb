{
 "cells": [
  {
   "cell_type": "code",
   "execution_count": 6,
   "metadata": {},
   "outputs": [],
   "source": [
    "import torch\n",
    "import torch.nn as nn\n",
    "import torch.nn.functional as F\n",
    "import torch.optim as optim\n",
    "\n",
    "import torchvision.datasets as dsets\n",
    "import torchvision.transforms as transforms\n",
    "import torch.nn.init"
   ]
  },
  {
   "cell_type": "code",
   "execution_count": 7,
   "metadata": {},
   "outputs": [
    {
     "data": {
      "text/plain": [
       "<torch._C.Generator at 0x1d5c2787450>"
      ]
     },
     "execution_count": 7,
     "metadata": {},
     "output_type": "execute_result"
    }
   ],
   "source": [
    "device = 'cpu'\n",
    "\n",
    "torch.manual_seed(777)"
   ]
  },
  {
   "cell_type": "markdown",
   "metadata": {},
   "source": [
    "#### hyperparameters"
   ]
  },
  {
   "cell_type": "code",
   "execution_count": 8,
   "metadata": {},
   "outputs": [],
   "source": [
    "learning_rate = 0.001\n",
    "epochs = 15\n",
    "batch_size = 100"
   ]
  },
  {
   "cell_type": "markdown",
   "metadata": {},
   "source": [
    "#### datasets"
   ]
  },
  {
   "cell_type": "code",
   "execution_count": 17,
   "metadata": {},
   "outputs": [],
   "source": [
    "mnist_train = dsets.MNIST(root='MNIST_data/',\n",
    "                         train=True,\n",
    "                         transform=transforms.ToTensor(),\n",
    "                         download=True)\n",
    "\n",
    "mnist_test = dsets.MNIST(root='MNIST_data/',\n",
    "                        train=False,\n",
    "                        transform=transforms.ToTensor(),\n",
    "                        download=True)\n",
    "\n",
    "dataloader = torch.utils.data.DataLoader(dataset=mnist_train,\n",
    "                                        batch_size=batch_size,\n",
    "                                        shuffle=True,\n",
    "                                        drop_last=True)\n",
    "\n",
    "total_batch = len(dataloader)"
   ]
  },
  {
   "cell_type": "markdown",
   "metadata": {},
   "source": [
    "#### model"
   ]
  },
  {
   "cell_type": "code",
   "execution_count": 30,
   "metadata": {},
   "outputs": [],
   "source": [
    "class CNN(nn.Module):\n",
    "    def __init__(self):\n",
    "        super(CNN, self).__init__()\n",
    "        \n",
    "        # no.1 layer\n",
    "        self.layer1 = nn.Sequential(\n",
    "        nn.Conv2d(1, 32, kernel_size=3, stride=1, padding=1),\n",
    "        nn.ReLU(),\n",
    "        nn.MaxPool2d(kernel_size=2,stride=2))\n",
    "        \n",
    "        #no.2 layer\n",
    "        self.layer2 = nn.Sequential(\n",
    "        nn.Conv2d(32, 64, kernel_size=3, stride=1, padding=1),\n",
    "        nn.ReLU(),\n",
    "        nn.MaxPool2d(kernel_size=2, stride=2))\n",
    "        \n",
    "        # FC layer\n",
    "        self.fc = nn.Linear(7 * 7 * 64, 10 ,bias=True)\n",
    "        \n",
    "        # FC layer의 가중치 초기화\n",
    "        torch.nn.init.xavier_uniform_(self.fc.weight)\n",
    "        \n",
    "        \n",
    "    def forward(self, x) :\n",
    "        out = self.layer1(x)\n",
    "        out = self.layer2(out)\n",
    "        \n",
    "        # FC layer를 위한 Flatten\n",
    "        # 첫번째 차원인 배치 차원은 그대로 두고 나머지는 펼쳐라\n",
    "        out = out.view(out.size(0), -1)\n",
    "        out = self.fc(out)\n",
    "        \n",
    "        return out\n",
    "    "
   ]
  },
  {
   "cell_type": "code",
   "execution_count": 22,
   "metadata": {},
   "outputs": [],
   "source": [
    "model = CNN()\n",
    "loss = nn.CrossEntropyLoss()\n",
    "optimizer = optim.SGD(model.parameters(), lr=learning_rate)"
   ]
  },
  {
   "cell_type": "markdown",
   "metadata": {},
   "source": [
    "#### training SGD 사용"
   ]
  },
  {
   "cell_type": "code",
   "execution_count": 24,
   "metadata": {},
   "outputs": [
    {
     "name": "stdout",
     "output_type": "stream",
     "text": [
      "Epoch : 0/15 Cost : 1.68850\n",
      "Epoch : 1/15 Cost : 0.98371\n",
      "Epoch : 2/15 Cost : 0.63826\n",
      "Epoch : 3/15 Cost : 0.50615\n",
      "Epoch : 4/15 Cost : 0.43932\n",
      "Epoch : 5/15 Cost : 0.39801\n",
      "Epoch : 6/15 Cost : 0.36912\n",
      "Epoch : 7/15 Cost : 0.34742\n",
      "Epoch : 8/15 Cost : 0.33004\n",
      "Epoch : 9/15 Cost : 0.31570\n",
      "Epoch : 10/15 Cost : 0.30334\n",
      "Epoch : 11/15 Cost : 0.29263\n",
      "Epoch : 12/15 Cost : 0.28288\n",
      "Epoch : 13/15 Cost : 0.27435\n",
      "Epoch : 14/15 Cost : 0.26594\n"
     ]
    }
   ],
   "source": [
    "for e in range(epochs) :\n",
    "    avg_cost = 0\n",
    "    \n",
    "    for x, y in dataloader:\n",
    "        \n",
    "        x = x.to('cpu')\n",
    "        y = y.to('cpu')\n",
    "        pred = model(x)\n",
    "        cost = loss(pred, y)\n",
    "        \n",
    "        optimizer.zero_grad()\n",
    "        cost.backward()\n",
    "        optimizer.step()\n",
    "        \n",
    "        avg_cost += cost / total_batch\n",
    "        \n",
    "    print(\"Epoch : {}/{} Cost : {:.5f}\".format(e,epochs,avg_cost))"
   ]
  },
  {
   "cell_type": "markdown",
   "metadata": {},
   "source": [
    "#### training Adam 사용"
   ]
  },
  {
   "cell_type": "code",
   "execution_count": 47,
   "metadata": {},
   "outputs": [
    {
     "name": "stdout",
     "output_type": "stream",
     "text": [
      "<class 'float'>\n",
      "0\n"
     ]
    }
   ],
   "source": [
    "import time\n",
    "\n",
    "c = time.time()\n",
    "print(type(c))\n",
    "print(\"{:d}\".format(int(time.time()-c)))"
   ]
  },
  {
   "cell_type": "code",
   "execution_count": 48,
   "metadata": {},
   "outputs": [
    {
     "name": "stdout",
     "output_type": "stream",
     "text": [
      "Start Training!\n",
      "\n",
      "Epoch : 0/15 Cost : 0.23606 >> Time : 114s\n",
      "Epoch : 1/15 Cost : 0.06315 >> Time : 110s\n",
      "Epoch : 2/15 Cost : 0.04638 >> Time : 103s\n",
      "Epoch : 3/15 Cost : 0.03815 >> Time : 107s\n",
      "Epoch : 4/15 Cost : 0.03175 >> Time : 107s\n",
      "Epoch : 5/15 Cost : 0.02747 >> Time : 102s\n",
      "Epoch : 6/15 Cost : 0.02282 >> Time : 103s\n",
      "Epoch : 7/15 Cost : 0.01982 >> Time : 113s\n",
      "Epoch : 8/15 Cost : 0.01721 >> Time : 105s\n",
      "Epoch : 9/15 Cost : 0.01512 >> Time : 108s\n",
      "Epoch : 10/15 Cost : 0.01191 >> Time : 103s\n",
      "Epoch : 11/15 Cost : 0.01067 >> Time : 105s\n",
      "Epoch : 12/15 Cost : 0.00930 >> Time : 103s\n",
      "Epoch : 13/15 Cost : 0.00827 >> Time : 101s\n",
      "Epoch : 14/15 Cost : 0.00669 >> Time : 111s\n",
      "!! Done !!\n"
     ]
    }
   ],
   "source": [
    "import time\n",
    "\n",
    "model = CNN()\n",
    "loss = nn.CrossEntropyLoss()\n",
    "optimizer = optim.Adam(model.parameters(), lr=learning_rate)\n",
    "\n",
    "print(\"Start Training!\\n\")\n",
    "for e in range(epochs) :\n",
    "    avg_cost = 0\n",
    "    current_t = time.time()\n",
    "    for x, y in dataloader:\n",
    "        \n",
    "        x = x.to('cpu')\n",
    "        y = y.to('cpu')\n",
    "        pred = model(x)\n",
    "        cost = loss(pred, y)\n",
    "        \n",
    "        optimizer.zero_grad()\n",
    "        cost.backward()\n",
    "        optimizer.step()\n",
    "        \n",
    "        avg_cost += cost / total_batch\n",
    "        \n",
    "    print(\"Epoch : {}/{} Cost : {:.5f} >> Time : {:d}s\".format(e,epochs,avg_cost,int(time.time()-current_t)))\n",
    "\n",
    "print(\"!! Done !!\")"
   ]
  },
  {
   "cell_type": "code",
   "execution_count": 49,
   "metadata": {},
   "outputs": [
    {
     "name": "stderr",
     "output_type": "stream",
     "text": [
      "C:\\Users\\Sub\\Anaconda3\\envs\\sub_2\\lib\\site-packages\\torchvision\\datasets\\mnist.py:60: UserWarning: test_data has been renamed data\n",
      "  warnings.warn(\"test_data has been renamed data\")\n",
      "C:\\Users\\Sub\\Anaconda3\\envs\\sub_2\\lib\\site-packages\\torchvision\\datasets\\mnist.py:50: UserWarning: test_labels has been renamed targets\n",
      "  warnings.warn(\"test_labels has been renamed targets\")\n"
     ]
    },
    {
     "name": "stdout",
     "output_type": "stream",
     "text": [
      "Accuracy: 0.9657999873161316\n"
     ]
    }
   ],
   "source": [
    "with torch.no_grad():\n",
    "    X_test = mnist_test.test_data.view(len(mnist_test), 1, 28, 28).float().to(device)\n",
    "    Y_test = mnist_test.test_labels.to(device)\n",
    "\n",
    "    prediction = model(X_test)\n",
    "    correct_prediction = torch.argmax(prediction, 1) == Y_test\n",
    "    accuracy = correct_prediction.float().mean()\n",
    "    print('Accuracy:', accuracy.item())"
   ]
  },
  {
   "cell_type": "markdown",
   "metadata": {},
   "source": [
    "### super(CNN, self).__init__() 의 의미 알아보기, 왜 CNN까지 포함 시키는지, 앞서 볼땐 그냥 super().__init__() 이였는데..\n",
    "\n",
    "### torch.nn.init.xavier_uniform(self.fc.weight)의 fc layer의 가중치를 왜 초기화 시키는지?"
   ]
  },
  {
   "cell_type": "code",
   "execution_count": null,
   "metadata": {},
   "outputs": [],
   "source": []
  }
 ],
 "metadata": {
  "kernelspec": {
   "display_name": "Python 3",
   "language": "python",
   "name": "python3"
  },
  "language_info": {
   "codemirror_mode": {
    "name": "ipython",
    "version": 3
   },
   "file_extension": ".py",
   "mimetype": "text/x-python",
   "name": "python",
   "nbconvert_exporter": "python",
   "pygments_lexer": "ipython3",
   "version": "3.7.6"
  }
 },
 "nbformat": 4,
 "nbformat_minor": 4
}
