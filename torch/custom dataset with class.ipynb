{
 "cells": [
  {
   "cell_type": "code",
   "execution_count": 2,
   "metadata": {},
   "outputs": [],
   "source": [
    "import torch\n",
    "import torch.nn as nn\n",
    "import torch.nn.functional as F\n",
    "import torch.optim as optim\n",
    "\n",
    "from torch.utils.data import Dataset\n",
    "from torch.utils.data import DataLoader"
   ]
  },
  {
   "cell_type": "code",
   "execution_count": 3,
   "metadata": {},
   "outputs": [],
   "source": [
    "class CustomDataset(torch.utils.data.Dataset) :\n",
    "    def __init__(self) :\n",
    "        self.x_data = [[73, 80, 75],\n",
    "                       [93, 88, 93],\n",
    "                       [89, 91, 90],\n",
    "                       [96, 98, 100],\n",
    "                       [73, 66, 70]]\n",
    "        self.y_data = [[152], [185], [180], [196], [142]]\n",
    "        \n",
    "    # dataset의 길이, 총 샘플 수를 적어주는 부분\n",
    "    def __len__(self) :\n",
    "        return len(self.x_data)\n",
    "    \n",
    "    # dataset에서 특정 1개의 샘플을 가져오는 함수\n",
    "    def __getitem__(self, idx):\n",
    "        x = torch.FloatTensor(self.x_data)\n",
    "        y = torch.FloatTensor(self.y_data)\n",
    "        return x,y\n",
    "    \n",
    "dataset = CustomDataset()\n",
    "dataloader = DataLoader(dataset, batch_size=2, shuffle=True)"
   ]
  },
  {
   "cell_type": "code",
   "execution_count": 4,
   "metadata": {},
   "outputs": [],
   "source": [
    "model = torch.nn.Linear(3,1)\n",
    "optimizer = optim.SGD(model.parameters(), lr=1e-5)"
   ]
  },
  {
   "cell_type": "code",
   "execution_count": 5,
   "metadata": {},
   "outputs": [
    {
     "name": "stdout",
     "output_type": "stream",
     "text": [
      "Epoch : 0/2000, Batch : 0/3 Cost : 11728.625977\n",
      "Epoch : 0/2000, Batch : 1/3 Cost : 3678.255371\n",
      "Epoch : 0/2000, Batch : 2/3 Cost : 1154.892334\n",
      "Epoch : 100/2000, Batch : 0/3 Cost : 2.448644\n",
      "Epoch : 100/2000, Batch : 1/3 Cost : 2.447418\n",
      "Epoch : 100/2000, Batch : 2/3 Cost : 2.446187\n",
      "Epoch : 200/2000, Batch : 0/3 Cost : 2.107384\n",
      "Epoch : 200/2000, Batch : 1/3 Cost : 2.106322\n",
      "Epoch : 200/2000, Batch : 2/3 Cost : 2.105280\n",
      "Epoch : 300/2000, Batch : 0/3 Cost : 1.817307\n",
      "Epoch : 300/2000, Batch : 1/3 Cost : 1.816415\n",
      "Epoch : 300/2000, Batch : 2/3 Cost : 1.815523\n",
      "Epoch : 400/2000, Batch : 0/3 Cost : 1.570763\n",
      "Epoch : 400/2000, Batch : 1/3 Cost : 1.570004\n",
      "Epoch : 400/2000, Batch : 2/3 Cost : 1.569233\n",
      "Epoch : 500/2000, Batch : 0/3 Cost : 1.361175\n",
      "Epoch : 500/2000, Batch : 1/3 Cost : 1.360535\n",
      "Epoch : 500/2000, Batch : 2/3 Cost : 1.359896\n",
      "Epoch : 600/2000, Batch : 0/3 Cost : 1.183034\n",
      "Epoch : 600/2000, Batch : 1/3 Cost : 1.182490\n",
      "Epoch : 600/2000, Batch : 2/3 Cost : 1.181936\n",
      "Epoch : 700/2000, Batch : 0/3 Cost : 1.031605\n",
      "Epoch : 700/2000, Batch : 1/3 Cost : 1.031135\n",
      "Epoch : 700/2000, Batch : 2/3 Cost : 1.030676\n",
      "Epoch : 800/2000, Batch : 0/3 Cost : 0.902884\n",
      "Epoch : 800/2000, Batch : 1/3 Cost : 0.902485\n",
      "Epoch : 800/2000, Batch : 2/3 Cost : 0.902097\n",
      "Epoch : 900/2000, Batch : 0/3 Cost : 0.793460\n",
      "Epoch : 900/2000, Batch : 1/3 Cost : 0.793120\n",
      "Epoch : 900/2000, Batch : 2/3 Cost : 0.792787\n",
      "Epoch : 1000/2000, Batch : 0/3 Cost : 0.700435\n",
      "Epoch : 1000/2000, Batch : 1/3 Cost : 0.700158\n",
      "Epoch : 1000/2000, Batch : 2/3 Cost : 0.699862\n",
      "Epoch : 1100/2000, Batch : 0/3 Cost : 0.621360\n",
      "Epoch : 1100/2000, Batch : 1/3 Cost : 0.621119\n",
      "Epoch : 1100/2000, Batch : 2/3 Cost : 0.620866\n",
      "Epoch : 1200/2000, Batch : 0/3 Cost : 0.554134\n",
      "Epoch : 1200/2000, Batch : 1/3 Cost : 0.553922\n",
      "Epoch : 1200/2000, Batch : 2/3 Cost : 0.553716\n",
      "Epoch : 1300/2000, Batch : 0/3 Cost : 0.496968\n",
      "Epoch : 1300/2000, Batch : 1/3 Cost : 0.496790\n",
      "Epoch : 1300/2000, Batch : 2/3 Cost : 0.496621\n",
      "Epoch : 1400/2000, Batch : 0/3 Cost : 0.448372\n",
      "Epoch : 1400/2000, Batch : 1/3 Cost : 0.448226\n",
      "Epoch : 1400/2000, Batch : 2/3 Cost : 0.448080\n",
      "Epoch : 1500/2000, Batch : 0/3 Cost : 0.407057\n",
      "Epoch : 1500/2000, Batch : 1/3 Cost : 0.406930\n",
      "Epoch : 1500/2000, Batch : 2/3 Cost : 0.406801\n",
      "Epoch : 1600/2000, Batch : 0/3 Cost : 0.371917\n",
      "Epoch : 1600/2000, Batch : 1/3 Cost : 0.371815\n",
      "Epoch : 1600/2000, Batch : 2/3 Cost : 0.371703\n",
      "Epoch : 1700/2000, Batch : 0/3 Cost : 0.342041\n",
      "Epoch : 1700/2000, Batch : 1/3 Cost : 0.341947\n",
      "Epoch : 1700/2000, Batch : 2/3 Cost : 0.341858\n",
      "Epoch : 1800/2000, Batch : 0/3 Cost : 0.316626\n",
      "Epoch : 1800/2000, Batch : 1/3 Cost : 0.316548\n",
      "Epoch : 1800/2000, Batch : 2/3 Cost : 0.316472\n",
      "Epoch : 1900/2000, Batch : 0/3 Cost : 0.295013\n",
      "Epoch : 1900/2000, Batch : 1/3 Cost : 0.294945\n",
      "Epoch : 1900/2000, Batch : 2/3 Cost : 0.294887\n",
      "Epoch : 2000/2000, Batch : 0/3 Cost : 0.276634\n",
      "Epoch : 2000/2000, Batch : 1/3 Cost : 0.276576\n",
      "Epoch : 2000/2000, Batch : 2/3 Cost : 0.276517\n"
     ]
    }
   ],
   "source": [
    "epochs = 2000\n",
    "\n",
    "for e in range(epochs + 1) :\n",
    "    for batch_idx, samples in enumerate(dataloader) :\n",
    "        \n",
    "        x_train, y_train = samples\n",
    "        \n",
    "        pred = model(x_train)\n",
    "        \n",
    "        cost = F.mse_loss(pred, y_train)\n",
    "        \n",
    "        optimizer.zero_grad()\n",
    "        cost.backward()\n",
    "        optimizer.step()\n",
    "        \n",
    "        if e % 100 == 0 :\n",
    "            print(\"Epoch : {}/{}, Batch : {}/{} Cost : {:.6f}\".format(\n",
    "            e, epochs, batch_idx, len(dataloader), cost.item()))\n",
    "            "
   ]
  },
  {
   "cell_type": "code",
   "execution_count": null,
   "metadata": {},
   "outputs": [],
   "source": []
  }
 ],
 "metadata": {
  "kernelspec": {
   "display_name": "Python 3",
   "language": "python",
   "name": "python3"
  },
  "language_info": {
   "codemirror_mode": {
    "name": "ipython",
    "version": 3
   },
   "file_extension": ".py",
   "mimetype": "text/x-python",
   "name": "python",
   "nbconvert_exporter": "python",
   "pygments_lexer": "ipython3",
   "version": "3.7.6"
  }
 },
 "nbformat": 4,
 "nbformat_minor": 4
}
