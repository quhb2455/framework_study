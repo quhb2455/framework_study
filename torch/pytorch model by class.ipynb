{
 "cells": [
  {
   "cell_type": "code",
   "execution_count": 11,
   "metadata": {},
   "outputs": [],
   "source": [
    "import torch\n",
    "import torch.nn as nn\n",
    "import torch.nn.functional as F\n",
    "import torch.optim as optim\n",
    "\n",
    "\n",
    "class LinearRegressionModel(nn.Module) :\n",
    "    def __init__(self):\n",
    "        super().__init__()\n",
    "        # 단순 선형회귀이므로 입,출력이 1차원.\n",
    "        self.linear = nn.Linear(1,1)\n",
    "        \n",
    "    # x는 input data가 된다. ex) y = model(x)\n",
    "    def forward(self, x):\n",
    "        return self.linear(x)\n",
    "    \n",
    "    \n",
    "    \n",
    "model = LinearRegressionModel()\n"
   ]
  },
  {
   "cell_type": "markdown",
   "metadata": {},
   "source": [
    "위의 LinearRegressionModel은 \n",
    "\n",
    "model = nn.Linear(1,1)과 같다.\n",
    "\n",
    "위와 같은 구현 방식은 대부분의 파이토치 구현체에서 사용하는 방식이다.\n",
    "\n",
    "숙지하면 좋다.\n",
    "\n",
    "### 코드 설명\n",
    "    nn.Module을 상속받는다. \n",
    "    super() 함수를 부르면 LinearRegressionModel 클래스는 nn.module의 속성을 가지고 초기화된다.\n",
    "    \n",
    "   #### forward()함수\n",
    "       모델이 학습데이터를 받으면 forward 연산을 실행시키는 부분.\n",
    "       forward()함수는 model객체를 데이터와 함께 호출하면 자동으로 실행됨.\n",
    "       ex) output = model(input) ==> model안의 forward()함수가 자동으로 호출되서 실행됨."
   ]
  },
  {
   "cell_type": "code",
   "execution_count": 12,
   "metadata": {},
   "outputs": [
    {
     "name": "stdout",
     "output_type": "stream",
     "text": [
      "MultivariateLinearRegressionModel(\n",
      "  (linear): Linear(in_features=3, out_features=1, bias=True)\n",
      ")\n"
     ]
    }
   ],
   "source": [
    "class MultivariateLinearRegressionModel(nn.Module) :\n",
    "    def __init__(self):\n",
    "        super().__init__()\n",
    "        self.linear = nn.Linear(3,1)\n",
    "        \n",
    "    def forward(self, x):\n",
    "        return self.linear(x)\n",
    "    \n",
    "model = MultivariateLinearRegressionModel()\n",
    "print(model)\n"
   ]
  },
  {
   "cell_type": "markdown",
   "metadata": {},
   "source": [
    "### 단순 선형 회귀 클래스로 구현"
   ]
  },
  {
   "cell_type": "code",
   "execution_count": 13,
   "metadata": {},
   "outputs": [],
   "source": [
    "torch.manual_seed(1)\n",
    "\n",
    "x_train = torch.FloatTensor([[1], [2], [3]])\n",
    "y_train = torch.FloatTensor([[2], [4], [6]])"
   ]
  },
  {
   "cell_type": "code",
   "execution_count": 14,
   "metadata": {},
   "outputs": [],
   "source": [
    "class LinearRegressionModel(nn.Module):\n",
    "    def __init__(self):\n",
    "        super().__init__()\n",
    "        self.linear = nn.Linear(1,1)\n",
    "        \n",
    "    def forward(self, x) :\n",
    "        return self.linear(x)\n",
    "    \n",
    "model = LinearRegressionModel()"
   ]
  },
  {
   "cell_type": "code",
   "execution_count": 15,
   "metadata": {},
   "outputs": [
    {
     "name": "stdout",
     "output_type": "stream",
     "text": [
      "Epoch : 0/2000 Cost : 13.103541\n",
      "Epoch : 100/2000 Cost : 0.002791\n",
      "Epoch : 200/2000 Cost : 0.001724\n",
      "Epoch : 300/2000 Cost : 0.001066\n",
      "Epoch : 400/2000 Cost : 0.000658\n",
      "Epoch : 500/2000 Cost : 0.000407\n",
      "Epoch : 600/2000 Cost : 0.000251\n",
      "Epoch : 700/2000 Cost : 0.000155\n",
      "Epoch : 800/2000 Cost : 0.000096\n",
      "Epoch : 900/2000 Cost : 0.000059\n",
      "Epoch : 1000/2000 Cost : 0.000037\n",
      "Epoch : 1100/2000 Cost : 0.000023\n",
      "Epoch : 1200/2000 Cost : 0.000014\n",
      "Epoch : 1300/2000 Cost : 0.000009\n",
      "Epoch : 1400/2000 Cost : 0.000005\n",
      "Epoch : 1500/2000 Cost : 0.000003\n",
      "Epoch : 1600/2000 Cost : 0.000002\n",
      "Epoch : 1700/2000 Cost : 0.000001\n",
      "Epoch : 1800/2000 Cost : 0.000001\n",
      "Epoch : 1900/2000 Cost : 0.000000\n",
      "Epoch : 2000/2000 Cost : 0.000000\n"
     ]
    }
   ],
   "source": [
    "optimizer = optim.SGD(model.parameters(), lr=1e-2)\n",
    "\n",
    "epochs = 2000\n",
    "\n",
    "for e in range(epochs + 1) :\n",
    "    pred = model(x_train)\n",
    "    \n",
    "    cost = F.mse_loss(pred, y_train)\n",
    "    \n",
    "    optimizer.zero_grad()\n",
    "    cost.backward()\n",
    "    optimizer.step()\n",
    "    \n",
    "    if e % 100 == 0 :\n",
    "        print(\"Epoch : {}/{} Cost : {:.6f}\".format(e, epochs, cost.item()))"
   ]
  },
  {
   "cell_type": "code",
   "execution_count": 16,
   "metadata": {},
   "outputs": [
    {
     "name": "stdout",
     "output_type": "stream",
     "text": [
      "[Parameter containing:\n",
      "tensor([[1.9994]], requires_grad=True), Parameter containing:\n",
      "tensor([0.0014], requires_grad=True)]\n"
     ]
    }
   ],
   "source": [
    "print(list(model.parameters()))"
   ]
  },
  {
   "cell_type": "markdown",
   "metadata": {},
   "source": [
    "Weight = 2, bias = 0 으로 최적화된 것을 볼 수 있다."
   ]
  },
  {
   "cell_type": "markdown",
   "metadata": {},
   "source": [
    "### 다중 선형 회귀 클래스로 구현"
   ]
  },
  {
   "cell_type": "code",
   "execution_count": 22,
   "metadata": {},
   "outputs": [],
   "source": [
    "torch.manual_seed(1)\n",
    "\n",
    "x_train = torch.FloatTensor([[73, 80, 75],\n",
    "                             [93, 88, 93],\n",
    "                             [89, 91, 90],\n",
    "                             [96, 98, 100],\n",
    "                             [73, 66, 70]])\n",
    "y_train = torch.FloatTensor([[152], [185], [180], [196], [142]])"
   ]
  },
  {
   "cell_type": "code",
   "execution_count": 30,
   "metadata": {},
   "outputs": [],
   "source": [
    "class MultivariateLinearRegressionModel(nn.Module) :\n",
    "    def __init__(self):\n",
    "        super().__init__()\n",
    "        self.linear = nn.Linear(3, 1)\n",
    "        \n",
    "    def forward(self, x):\n",
    "        return self.linear(x)\n",
    "    \n",
    "model = MultivariateLinearRegressionModel()"
   ]
  },
  {
   "cell_type": "code",
   "execution_count": 31,
   "metadata": {},
   "outputs": [
    {
     "name": "stdout",
     "output_type": "stream",
     "text": [
      "Epoch : 0/2000 Cost : 24821.3710937500\n",
      "Epoch : 100/2000 Cost : 0.8491477966\n",
      "Epoch : 200/2000 Cost : 0.8255969882\n",
      "Epoch : 300/2000 Cost : 0.8032250404\n",
      "Epoch : 400/2000 Cost : 0.7819682360\n",
      "Epoch : 500/2000 Cost : 0.7617790103\n",
      "Epoch : 600/2000 Cost : 0.7425867319\n",
      "Epoch : 700/2000 Cost : 0.7243570685\n",
      "Epoch : 800/2000 Cost : 0.7070248723\n",
      "Epoch : 900/2000 Cost : 0.6905483007\n",
      "Epoch : 1000/2000 Cost : 0.6748827696\n",
      "Epoch : 1100/2000 Cost : 0.6599851847\n",
      "Epoch : 1200/2000 Cost : 0.6458097696\n",
      "Epoch : 1300/2000 Cost : 0.6323423386\n",
      "Epoch : 1400/2000 Cost : 0.6195142269\n",
      "Epoch : 1500/2000 Cost : 0.6073073745\n",
      "Epoch : 1600/2000 Cost : 0.5956887007\n",
      "Epoch : 1700/2000 Cost : 0.5846163630\n",
      "Epoch : 1800/2000 Cost : 0.5740810037\n",
      "Epoch : 1900/2000 Cost : 0.5640445948\n",
      "Epoch : 2000/2000 Cost : 0.5544735789\n"
     ]
    }
   ],
   "source": [
    "optimizer = optim.SGD(model.parameters(), lr=1e-5)\n",
    "\n",
    "epochs = 2000\n",
    "\n",
    "for e in range(epochs + 1):\n",
    "    \n",
    "    pred = model(x_train)\n",
    "    \n",
    "    cost = F.mse_loss(pred, y_train)\n",
    "    \n",
    "    optimizer.zero_grad()\n",
    "    cost.backward()\n",
    "    optimizer.step()\n",
    "    \n",
    "    if e % 100 == 0 :\n",
    "        print(\"Epoch : {}/{} Cost : {:.10f}\".format(e, epochs, cost.item()))"
   ]
  },
  {
   "cell_type": "code",
   "execution_count": 32,
   "metadata": {},
   "outputs": [
    {
     "name": "stdout",
     "output_type": "stream",
     "text": [
      "[Parameter containing:\n",
      "tensor([[0.7497, 0.4868, 0.7725]], requires_grad=True), Parameter containing:\n",
      "tensor([0.0386], requires_grad=True)]\n"
     ]
    }
   ],
   "source": [
    "print(list(model.parameters()))"
   ]
  },
  {
   "cell_type": "code",
   "execution_count": null,
   "metadata": {},
   "outputs": [],
   "source": []
  }
 ],
 "metadata": {
  "kernelspec": {
   "display_name": "Python 3",
   "language": "python",
   "name": "python3"
  },
  "language_info": {
   "codemirror_mode": {
    "name": "ipython",
    "version": 3
   },
   "file_extension": ".py",
   "mimetype": "text/x-python",
   "name": "python",
   "nbconvert_exporter": "python",
   "pygments_lexer": "ipython3",
   "version": "3.7.6"
  }
 },
 "nbformat": 4,
 "nbformat_minor": 4
}
