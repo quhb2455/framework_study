{
 "cells": [
  {
   "cell_type": "code",
   "execution_count": 13,
   "metadata": {},
   "outputs": [
    {
     "data": {
      "text/plain": [
       "<torch._C.Generator at 0x287ee7f5430>"
      ]
     },
     "execution_count": 13,
     "metadata": {},
     "output_type": "execute_result"
    }
   ],
   "source": [
    "import torch\n",
    "import torch.nn as nn\n",
    "import torch.nn.functional as F\n",
    "import torch.optim as optim\n",
    "\n",
    "torch.manual_seed(1)"
   ]
  },
  {
   "cell_type": "code",
   "execution_count": 14,
   "metadata": {},
   "outputs": [],
   "source": [
    "x_data = [[1, 2], [2, 3], [3, 1], [4, 3], [5, 3], [6, 2]]\n",
    "y_data = [[0], [0], [0], [1], [1], [1]]\n",
    "x_train = torch.FloatTensor(x_data)\n",
    "y_train = torch.FloatTensor(y_data)\n",
    "\n",
    "model = nn.Sequential(\n",
    "    nn.Linear(2, 1), # input_dim = 2, output_dim = 1\n",
    "    nn.Sigmoid() # 출력은 sigmoid 함수를 거침\n",
    ")"
   ]
  },
  {
   "cell_type": "code",
   "execution_count": 15,
   "metadata": {},
   "outputs": [
    {
     "data": {
      "text/plain": [
       "tensor([[0.4020],\n",
       "        [0.4147],\n",
       "        [0.6556],\n",
       "        [0.5948],\n",
       "        [0.6788],\n",
       "        [0.8061]], grad_fn=<SigmoidBackward>)"
      ]
     },
     "execution_count": 15,
     "metadata": {},
     "output_type": "execute_result"
    }
   ],
   "source": [
    "model(x_train)"
   ]
  },
  {
   "cell_type": "markdown",
   "metadata": {},
   "source": [
    "위와 같이 일단 6,1 모양으로 출력은 되지만, W,b가 임의의 값을 가지고 있기 때문에 전혀 의미 없는 값이다."
   ]
  },
  {
   "cell_type": "code",
   "execution_count": 16,
   "metadata": {},
   "outputs": [
    {
     "name": "stdout",
     "output_type": "stream",
     "text": [
      "Epoch : 0/1000 Cost : 0.5397131443023682 Accuracy : 83.33333333333334\n",
      "Epoch : 100/1000 Cost : 0.1342717856168747 Accuracy : 100.0\n",
      "Epoch : 200/1000 Cost : 0.08048570901155472 Accuracy : 100.0\n",
      "Epoch : 300/1000 Cost : 0.05782032385468483 Accuracy : 100.0\n",
      "Epoch : 400/1000 Cost : 0.04525138437747955 Accuracy : 100.0\n",
      "Epoch : 500/1000 Cost : 0.03722849115729332 Accuracy : 100.0\n",
      "Epoch : 600/1000 Cost : 0.031649164855480194 Accuracy : 100.0\n",
      "Epoch : 700/1000 Cost : 0.02753829024732113 Accuracy : 100.0\n",
      "Epoch : 800/1000 Cost : 0.024380533024668694 Accuracy : 100.0\n",
      "Epoch : 900/1000 Cost : 0.02187720499932766 Accuracy : 100.0\n",
      "Epoch : 1000/1000 Cost : 0.019843051210045815 Accuracy : 100.0\n"
     ]
    }
   ],
   "source": [
    "optimizer = optim.SGD(model.parameters(), lr=1)\n",
    "\n",
    "epochs = 1000\n",
    "for e in range(epochs + 1) :\n",
    "    pred = model(x_train)\n",
    "    \n",
    "    cost = F.binary_cross_entropy(pred, y_train)\n",
    "    \n",
    "    optimizer.zero_grad()\n",
    "    cost.backward()\n",
    "    optimizer.step()\n",
    "    \n",
    "    if e % 100 == 0 :\n",
    "        \n",
    "        # 예측값이 0.5를 넘으면 True\n",
    "        prediction = pred >= torch.FloatTensor([0.5])\n",
    "        \n",
    "        # 실제값과 일치하면 True\n",
    "        correct_pred = prediction.float() == y_train\n",
    "        \n",
    "        # 정확도 계산\n",
    "        accracy = correct_pred.sum().item() / len(correct_pred)\n",
    "        \n",
    "        print(\"Epoch : {}/{} Cost : {} Accuracy : {}\".format(e, epochs, cost.item(), accracy*100))\n",
    "    "
   ]
  },
  {
   "cell_type": "code",
   "execution_count": 22,
   "metadata": {},
   "outputs": [
    {
     "data": {
      "text/plain": [
       "tensor([[2.7616e-04],\n",
       "        [3.1595e-02],\n",
       "        [3.8959e-02],\n",
       "        [9.5624e-01],\n",
       "        [9.9823e-01],\n",
       "        [9.9969e-01]], grad_fn=<SigmoidBackward>)"
      ]
     },
     "execution_count": 22,
     "metadata": {},
     "output_type": "execute_result"
    }
   ],
   "source": [
    "model(x_train)"
   ]
  },
  {
   "cell_type": "markdown",
   "metadata": {},
   "source": [
    "train이 완료된 model을 inference 해보면 나오는 예측값이\n",
    "y_train의 값과 비슷하단 걸 알 수 있다."
   ]
  },
  {
   "cell_type": "code",
   "execution_count": null,
   "metadata": {},
   "outputs": [],
   "source": []
  }
 ],
 "metadata": {
  "kernelspec": {
   "display_name": "Python 3",
   "language": "python",
   "name": "python3"
  },
  "language_info": {
   "codemirror_mode": {
    "name": "ipython",
    "version": 3
   },
   "file_extension": ".py",
   "mimetype": "text/x-python",
   "name": "python",
   "nbconvert_exporter": "python",
   "pygments_lexer": "ipython3",
   "version": "3.7.6"
  }
 },
 "nbformat": 4,
 "nbformat_minor": 4
}
