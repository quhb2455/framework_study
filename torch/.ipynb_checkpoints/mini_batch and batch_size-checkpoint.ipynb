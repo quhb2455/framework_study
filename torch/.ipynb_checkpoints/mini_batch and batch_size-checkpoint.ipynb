{
 "cells": [
  {
   "attachments": {
    "image.png": {
     "image/png": "[encoded data removed]"
    }
   },
   "cell_type": "markdown",
   "metadata": {},
   "source": [
    "### batch\n",
    "    data의 양이 많아지면 한번에 모든 data에 대해 경사하강법을 수행 할 수 없다.\n",
    "    계산량이 많아서 느리고, 메모리의 한계로 계산이 불가능 할 수도 있다.\n",
    "    \n",
    "    전체 data를 작은 단위로 나누어 해당 단위로 학습을 진행하는데\n",
    "    \n",
    "    이 단위를 \"\"Mini Batch\"\"라고 한다.\n",
    "    \n",
    "  ![image.png](attachment:image.png)\n",
    "    \n",
    "    batch들이 모두 경사하강법을 1번씩 수행하게 되면 1 epoch이 끝난다.\n",
    "    \n",
    "   #### mini batch의 크기를 batch size라고 한다."
   ]
  },
  {
   "cell_type": "markdown",
   "metadata": {},
   "source": [
    "### 배치 경사 하강법\n",
    "    전체 data에 대해 경사하강법을 진행\n",
    "    가중치 값이 최적에 수렴\n",
    "    계산량이 너무 많음\n",
    "    \n",
    "### 미니 배치 경사 하강법\n",
    "    1개의 mini batch에 대하여 경사하강법을 진행\n",
    "    가중치 값이 최적값으로 수렴하기가 조금 어려움\n",
    "    훈련 속도가 빠름\n",
    "\n",
    "### iteration\n",
    "    1개의 mini batch가 network를 통과하는 것을 말함.\n",
    "    \n",
    "    data = 2000개\n",
    "    batch size = 200 ==> 총 10개의 mini batch 생성\n",
    "    Iteration = 10  ==> 1 Epoch\n",
    "    \n",
    "    10 iteration이면 1번 모든 데이터가 network를 통과함. 따라서 1 Epoch이됨\n",
    "   "
   ]
  },
  {
   "cell_type": "code",
   "execution_count": 3,
   "metadata": {},
   "outputs": [
    {
     "data": {
      "text/plain": [
       "<torch._C.Generator at 0x20fb65043d0>"
      ]
     },
     "execution_count": 3,
     "metadata": {},
     "output_type": "execute_result"
    }
   ],
   "source": [
    "import torch\n",
    "import torch.nn as nn\n",
    "import torch.nn.functional as F\n",
    "import torch.optim as optim\n",
    "\n",
    "from torch.utils.data import TensorDataset\n",
    "from torch.utils.data import DataLoader\n",
    "\n",
    "torch.manual_seed(1)"
   ]
  },
  {
   "cell_type": "code",
   "execution_count": 8,
   "metadata": {},
   "outputs": [],
   "source": [
    "x_train = torch.FloatTensor([[73, 80, 75],\n",
    "                             [93, 88, 93],\n",
    "                             [89, 91, 90],\n",
    "                             [96, 98, 100],\n",
    "                             [73, 66, 70]])\n",
    "y_train = torch.FloatTensor([[152], [185], [180], [196], [142]])"
   ]
  },
  {
   "cell_type": "code",
   "execution_count": 9,
   "metadata": {},
   "outputs": [],
   "source": [
    "dataset = TensorDataset(x_train, y_train)\n",
    "dataloader = DataLoader(dataset, batch_size=2, shuffle=True)"
   ]
  },
  {
   "cell_type": "markdown",
   "metadata": {},
   "source": [
    "### batch를 사용한 결과 "
   ]
  },
  {
   "cell_type": "code",
   "execution_count": 35,
   "metadata": {},
   "outputs": [
    {
     "name": "stdout",
     "output_type": "stream",
     "text": [
      "Epoch : 0/2000, Batch : 0/3 Cost : 53898.457031\n",
      "Epoch : 0/2000, Batch : 1/3 Cost : 16657.857422\n",
      "Epoch : 0/2000, Batch : 2/3 Cost : 6019.574219\n",
      "Epoch : 100/2000, Batch : 0/3 Cost : 10.442776\n",
      "Epoch : 100/2000, Batch : 1/3 Cost : 10.869239\n",
      "Epoch : 100/2000, Batch : 2/3 Cost : 1.065429\n",
      "Epoch : 200/2000, Batch : 0/3 Cost : 11.368460\n",
      "Epoch : 200/2000, Batch : 1/3 Cost : 0.884159\n",
      "Epoch : 200/2000, Batch : 2/3 Cost : 14.768081\n",
      "Epoch : 300/2000, Batch : 0/3 Cost : 3.938185\n",
      "Epoch : 300/2000, Batch : 1/3 Cost : 14.543747\n",
      "Epoch : 300/2000, Batch : 2/3 Cost : 3.477790\n",
      "Epoch : 400/2000, Batch : 0/3 Cost : 6.273901\n",
      "Epoch : 400/2000, Batch : 1/3 Cost : 4.376030\n",
      "Epoch : 400/2000, Batch : 2/3 Cost : 4.533801\n",
      "Epoch : 500/2000, Batch : 0/3 Cost : 0.358337\n",
      "Epoch : 500/2000, Batch : 1/3 Cost : 6.242352\n",
      "Epoch : 500/2000, Batch : 2/3 Cost : 9.174144\n",
      "Epoch : 600/2000, Batch : 0/3 Cost : 4.252503\n",
      "Epoch : 600/2000, Batch : 1/3 Cost : 3.157555\n",
      "Epoch : 600/2000, Batch : 2/3 Cost : 3.577464\n",
      "Epoch : 700/2000, Batch : 0/3 Cost : 4.713773\n",
      "Epoch : 700/2000, Batch : 1/3 Cost : 2.877197\n",
      "Epoch : 700/2000, Batch : 2/3 Cost : 2.139290\n",
      "Epoch : 800/2000, Batch : 0/3 Cost : 3.294043\n",
      "Epoch : 800/2000, Batch : 1/3 Cost : 2.617141\n",
      "Epoch : 800/2000, Batch : 2/3 Cost : 2.745490\n",
      "Epoch : 900/2000, Batch : 0/3 Cost : 1.530914\n",
      "Epoch : 900/2000, Batch : 1/3 Cost : 2.766434\n",
      "Epoch : 900/2000, Batch : 2/3 Cost : 3.085829\n",
      "Epoch : 1000/2000, Batch : 0/3 Cost : 2.443400\n",
      "Epoch : 1000/2000, Batch : 1/3 Cost : 0.885990\n",
      "Epoch : 1000/2000, Batch : 2/3 Cost : 4.277921\n",
      "Epoch : 1100/2000, Batch : 0/3 Cost : 2.063335\n",
      "Epoch : 1100/2000, Batch : 1/3 Cost : 2.009052\n",
      "Epoch : 1100/2000, Batch : 2/3 Cost : 0.380581\n",
      "Epoch : 1200/2000, Batch : 0/3 Cost : 2.000856\n",
      "Epoch : 1200/2000, Batch : 1/3 Cost : 1.740225\n",
      "Epoch : 1200/2000, Batch : 2/3 Cost : 0.253122\n",
      "Epoch : 1300/2000, Batch : 0/3 Cost : 1.551438\n",
      "Epoch : 1300/2000, Batch : 1/3 Cost : 1.357932\n",
      "Epoch : 1300/2000, Batch : 2/3 Cost : 0.354117\n",
      "Epoch : 1400/2000, Batch : 0/3 Cost : 1.629338\n",
      "Epoch : 1400/2000, Batch : 1/3 Cost : 0.775693\n",
      "Epoch : 1400/2000, Batch : 2/3 Cost : 0.955046\n",
      "Epoch : 1500/2000, Batch : 0/3 Cost : 1.333254\n",
      "Epoch : 1500/2000, Batch : 1/3 Cost : 1.091967\n",
      "Epoch : 1500/2000, Batch : 2/3 Cost : 0.238240\n",
      "Epoch : 1600/2000, Batch : 0/3 Cost : 0.621592\n",
      "Epoch : 1600/2000, Batch : 1/3 Cost : 0.670048\n",
      "Epoch : 1600/2000, Batch : 2/3 Cost : 1.637499\n",
      "Epoch : 1700/2000, Batch : 0/3 Cost : 0.468856\n",
      "Epoch : 1700/2000, Batch : 1/3 Cost : 1.156525\n",
      "Epoch : 1700/2000, Batch : 2/3 Cost : 0.454209\n",
      "Epoch : 1800/2000, Batch : 0/3 Cost : 0.360121\n",
      "Epoch : 1800/2000, Batch : 1/3 Cost : 0.860358\n",
      "Epoch : 1800/2000, Batch : 2/3 Cost : 1.085303\n",
      "Epoch : 1900/2000, Batch : 0/3 Cost : 0.666183\n",
      "Epoch : 1900/2000, Batch : 1/3 Cost : 0.461006\n",
      "Epoch : 1900/2000, Batch : 2/3 Cost : 0.938477\n",
      "Epoch : 2000/2000, Batch : 0/3 Cost : 0.263569\n",
      "Epoch : 2000/2000, Batch : 1/3 Cost : 0.414159\n",
      "Epoch : 2000/2000, Batch : 2/3 Cost : 1.267720\n"
     ]
    }
   ],
   "source": [
    "model = nn.Linear(3,1)\n",
    "optimizer = optim.SGD(model.parameters(), lr=1e-5)\n",
    "\n",
    "epochs = 2000\n",
    "\n",
    "for e in range(epochs + 1) :\n",
    "    for batch_idx, samples in enumerate(dataloader) :\n",
    "        x_train, y_train = samples\n",
    "        \n",
    "        pred = model(x_train)\n",
    "        \n",
    "        cost = F.mse_loss(pred, y_train)\n",
    "        \n",
    "        optimizer.zero_grad()\n",
    "        cost.backward()\n",
    "        optimizer.step()\n",
    "        \n",
    "        if e % 100 == 0 :\n",
    "            print(\"Epoch : {}/{}, Batch : {}/{} Cost : {:.6f}\".format(\n",
    "            e, epochs, batch_idx, len(dataloader), cost.item()))"
   ]
  },
  {
   "cell_type": "markdown",
   "metadata": {},
   "source": [
    "### batch를 사용안한 결과 "
   ]
  },
  {
   "cell_type": "code",
   "execution_count": 36,
   "metadata": {},
   "outputs": [
    {
     "name": "stdout",
     "output_type": "stream",
     "text": [
      "Epoch : 0/2000, Cost : 10432.578125\n",
      "Epoch : 100/2000, Cost : 2.070087\n",
      "Epoch : 200/2000, Cost : 1.971632\n",
      "Epoch : 300/2000, Cost : 1.878373\n",
      "Epoch : 400/2000, Cost : 1.790006\n",
      "Epoch : 500/2000, Cost : 1.706278\n",
      "Epoch : 600/2000, Cost : 1.626997\n",
      "Epoch : 700/2000, Cost : 1.551881\n",
      "Epoch : 800/2000, Cost : 1.480720\n",
      "Epoch : 900/2000, Cost : 1.413303\n",
      "Epoch : 1000/2000, Cost : 1.349444\n",
      "Epoch : 1100/2000, Cost : 1.288947\n",
      "Epoch : 1200/2000, Cost : 1.231628\n",
      "Epoch : 1300/2000, Cost : 1.177329\n",
      "Epoch : 1400/2000, Cost : 1.125903\n",
      "Epoch : 1500/2000, Cost : 1.077176\n",
      "Epoch : 1600/2000, Cost : 1.031013\n",
      "Epoch : 1700/2000, Cost : 0.987278\n",
      "Epoch : 1800/2000, Cost : 0.945842\n",
      "Epoch : 1900/2000, Cost : 0.906602\n",
      "Epoch : 2000/2000, Cost : 0.869409\n"
     ]
    }
   ],
   "source": [
    "x_train = torch.FloatTensor([[73, 80, 75],\n",
    "                             [93, 88, 93],\n",
    "                             [89, 91, 90],\n",
    "                             [96, 98, 100],\n",
    "                             [73, 66, 70]])\n",
    "y_train = torch.FloatTensor([[152], [185], [180], [196], [142]])\n",
    "\n",
    "model_non = nn.Linear(3,1)\n",
    "optimizer = optim.SGD(model_non.parameters(), lr=1e-5)\n",
    "\n",
    "epochs = 2000\n",
    "\n",
    "for e in range(epochs + 1) :\n",
    "#     for batch_idx, samples in enumerate(dataloader) :\n",
    "#         x_train, y_train = samples\n",
    "        \n",
    "    pred = model_non(x_train)\n",
    "\n",
    "    cost = F.mse_loss(pred, y_train)\n",
    "\n",
    "    optimizer.zero_grad()\n",
    "    cost.backward()\n",
    "    optimizer.step()\n",
    "\n",
    "    if e % 100 == 0 :\n",
    "        print(\"Epoch : {}/{}, Cost : {:.6f}\".format(\n",
    "        e, epochs, cost.item()))"
   ]
  },
  {
   "cell_type": "code",
   "execution_count": 37,
   "metadata": {},
   "outputs": [
    {
     "name": "stdout",
     "output_type": "stream",
     "text": [
      "배치를 사용한 결과 :  tensor([[151.9353]], grad_fn=<AddmmBackward>)\n",
      "배치를 사용안한 결과 :  tensor([[152.8214]], grad_fn=<AddmmBackward>)\n"
     ]
    }
   ],
   "source": [
    "input = torch.FloatTensor([[73, 80, 75]])\n",
    "\n",
    "pred = model(input)\n",
    "pred_non = model_non(input)\n",
    "print(\"배치를 사용한 결과 : \",pred)\n",
    "print(\"배치를 사용안한 결과 : \",pred_non)"
   ]
  },
  {
   "cell_type": "markdown",
   "metadata": {},
   "source": []
  },
  {
   "cell_type": "code",
   "execution_count": null,
   "metadata": {},
   "outputs": [],
   "source": []
  }
 ],
 "metadata": {
  "kernelspec": {
   "display_name": "Python 3",
   "language": "python",
   "name": "python3"
  },
  "language_info": {
   "codemirror_mode": {
    "name": "ipython",
    "version": 3
   },
   "file_extension": ".py",
   "mimetype": "text/x-python",
   "name": "python",
   "nbconvert_exporter": "python",
   "pygments_lexer": "ipython3",
   "version": "3.7.6"
  }
 },
 "nbformat": 4,
 "nbformat_minor": 4
}
