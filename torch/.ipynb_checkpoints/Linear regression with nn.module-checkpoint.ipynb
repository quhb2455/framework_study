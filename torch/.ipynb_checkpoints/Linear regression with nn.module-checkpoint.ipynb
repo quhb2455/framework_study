{
 "cells": [
  {
   "cell_type": "markdown",
   "metadata": {},
   "source": [
    "### 단순 선형회귀 모델"
   ]
  },
  {
   "cell_type": "code",
   "execution_count": 15,
   "metadata": {},
   "outputs": [
    {
     "data": {
      "text/plain": [
       "<torch._C.Generator at 0x2c0f25345b0>"
      ]
     },
     "execution_count": 15,
     "metadata": {},
     "output_type": "execute_result"
    }
   ],
   "source": [
    "import torch\n",
    "import torch.nn as nn\n",
    "import torch.nn.functional as F\n",
    "\n",
    "torch.manual_seed(1)"
   ]
  },
  {
   "cell_type": "markdown",
   "metadata": {},
   "source": [
    "y = 2x 라는 데이터를 사용 할 것이다.\n",
    "우리는 w = 2 , b = 0 이라는 것을 알 고 있다.\n",
    "\n",
    "모델이 w, b 값을 제대로 찾아내게 해보자"
   ]
  },
  {
   "cell_type": "code",
   "execution_count": 16,
   "metadata": {},
   "outputs": [],
   "source": [
    "x_train = torch.FloatTensor([[1], [2], [3]])\n",
    "y_train = torch.FloatTensor([[2], [4], [6]])"
   ]
  },
  {
   "cell_type": "code",
   "execution_count": 17,
   "metadata": {},
   "outputs": [
    {
     "name": "stdout",
     "output_type": "stream",
     "text": [
      "[Parameter containing:\n",
      "tensor([[0.5153]], requires_grad=True), Parameter containing:\n",
      "tensor([-0.4414], requires_grad=True)]\n"
     ]
    }
   ],
   "source": [
    "model = nn.Linear(1,1)\n",
    "\n",
    "print(list(model.parameters()))"
   ]
  },
  {
   "cell_type": "markdown",
   "metadata": {},
   "source": [
    "nn.Linear([input], [output])의 형태이다.\n",
    "\n",
    "1개의 입력과 1개의 출력을 가지므로 둘다 1로 정의했다.\n",
    "\n",
    "model에는 이미 w,b를 랜덤으로 초기화 해놨는데 그 값이 위의 값이다.\n",
    "그리고 둘다 requires_grad = True로 학습 대상 변수 인것을 확인할 수 있다."
   ]
  },
  {
   "cell_type": "code",
   "execution_count": 18,
   "metadata": {},
   "outputs": [
    {
     "name": "stdout",
     "output_type": "stream",
     "text": [
      "Epoch    0/1000 Cost: 13.103541 \n",
      "Epoch  100/1000 Cost: 0.002791 \n",
      "Epoch  200/1000 Cost: 0.001724 \n",
      "Epoch  300/1000 Cost: 0.001066 \n",
      "Epoch  400/1000 Cost: 0.000658 \n",
      "Epoch  500/1000 Cost: 0.000407 \n",
      "Epoch  600/1000 Cost: 0.000251 \n",
      "Epoch  700/1000 Cost: 0.000155 \n",
      "Epoch  800/1000 Cost: 0.000096 \n",
      "Epoch  900/1000 Cost: 0.000059 \n",
      "Epoch 1000/1000 Cost: 0.000037 \n"
     ]
    }
   ],
   "source": [
    "optimizer = torch.optim.SGD(model.parameters(), lr=1e-2)\n",
    "\n",
    "epochs = 1000 \n",
    "for e in range(epochs+1):\n",
    "    \n",
    "    # hypothesis 계산, model이 식을 포함하고 있다.\n",
    "    prediction = model(x_train)\n",
    "    \n",
    "    # cost 계산, pytorch에서 제공하는 평균제곱오차 함수\n",
    "    cost = F.mse_loss(prediction, y_train)\n",
    "    \n",
    "    # optimizer gradient를 0으로 초기화\n",
    "    optimizer.zero_grad()\n",
    "    \n",
    "    # backpropagation, cost function을 미분하여 gradient 계산\n",
    "    cost.backward()\n",
    "    \n",
    "    # w, b를 업데이트 한다.\n",
    "    optimizer.step()\n",
    "    \n",
    "    if e % 100 == 0 :\n",
    "        print('Epoch {:4d}/{} Cost: {:.6f} '.format(\n",
    "              e, epochs, cost.item()\n",
    "          ))\n",
    "    \n",
    "    "
   ]
  },
  {
   "cell_type": "markdown",
   "metadata": {},
   "source": [
    "cost 의 값이 매우 작게 나왔다 == loss의 값이 매우 작게 나왔다\n",
    "이것의 의미는 W, b의 값이 최적화가 되었다는 것이다."
   ]
  },
  {
   "cell_type": "code",
   "execution_count": 20,
   "metadata": {},
   "outputs": [
    {
     "name": "stdout",
     "output_type": "stream",
     "text": [
      "예측 값 : tensor([[7.9879]], grad_fn=<AddmmBackward>)\n"
     ]
    }
   ],
   "source": [
    "input = torch.FloatTensor([[4.0]])\n",
    "\n",
    "output = model(input)\n",
    "\n",
    "print(\"예측 값 :\",output)"
   ]
  },
  {
   "cell_type": "markdown",
   "metadata": {},
   "source": [
    "### 다중 선형회귀 모델"
   ]
  },
  {
   "cell_type": "code",
   "execution_count": 26,
   "metadata": {},
   "outputs": [
    {
     "data": {
      "text/plain": [
       "<torch._C.Generator at 0x2c0f25345b0>"
      ]
     },
     "execution_count": 26,
     "metadata": {},
     "output_type": "execute_result"
    }
   ],
   "source": [
    "import torch\n",
    "import torch.nn as nn\n",
    "import torch.nn.functional as F\n",
    "\n",
    "torch.manual_seed(1)"
   ]
  },
  {
   "cell_type": "code",
   "execution_count": 27,
   "metadata": {},
   "outputs": [
    {
     "name": "stdout",
     "output_type": "stream",
     "text": [
      "[Parameter containing:\n",
      "tensor([[ 0.2975, -0.2548, -0.1119]], requires_grad=True), Parameter containing:\n",
      "tensor([0.2710], requires_grad=True)]\n"
     ]
    }
   ],
   "source": [
    "#  H(x)=w1x1+w2x2+w3x3+b\n",
    "x_train = torch.FloatTensor([[73, 80, 75],\n",
    "                             [93, 88, 93],\n",
    "                             [89, 91, 90],\n",
    "                             [96, 98, 100],\n",
    "                             [73, 66, 70]])\n",
    "y_train = torch.FloatTensor([[152], [185], [180], [196], [142]])\n",
    "\n",
    "# x의 입력이 3개이고, 출력은 1개이다.\n",
    "model = nn.Linear(3, 1)\n",
    "\n",
    "print(list(model.parameters()))"
   ]
  },
  {
   "cell_type": "markdown",
   "metadata": {},
   "source": [
    "W = [[ 0.2975, -0.2548, -0.1119]]\n",
    "b = [[0.2710]]\n",
    "으로 초기화 되어있다."
   ]
  },
  {
   "cell_type": "code",
   "execution_count": 28,
   "metadata": {},
   "outputs": [
    {
     "name": "stdout",
     "output_type": "stream",
     "text": [
      "epoch : 0/2000 Cost : 31667.597656\n",
      "epoch : 100/2000 Cost : 0.225993\n",
      "epoch : 200/2000 Cost : 0.223911\n",
      "epoch : 300/2000 Cost : 0.221941\n",
      "epoch : 400/2000 Cost : 0.220059\n",
      "epoch : 500/2000 Cost : 0.218271\n",
      "epoch : 600/2000 Cost : 0.216575\n",
      "epoch : 700/2000 Cost : 0.214950\n",
      "epoch : 800/2000 Cost : 0.213413\n",
      "epoch : 900/2000 Cost : 0.211952\n",
      "epoch : 1000/2000 Cost : 0.210559\n",
      "epoch : 1100/2000 Cost : 0.209230\n",
      "epoch : 1200/2000 Cost : 0.207967\n",
      "epoch : 1300/2000 Cost : 0.206762\n",
      "epoch : 1400/2000 Cost : 0.205618\n",
      "epoch : 1500/2000 Cost : 0.204529\n",
      "epoch : 1600/2000 Cost : 0.203481\n",
      "epoch : 1700/2000 Cost : 0.202486\n",
      "epoch : 1800/2000 Cost : 0.201539\n",
      "epoch : 1900/2000 Cost : 0.200634\n",
      "epoch : 2000/2000 Cost : 0.199770\n"
     ]
    }
   ],
   "source": [
    "# 변수가 3개 이기 때문에 낮은 학습률을 준다.\n",
    "# 높은 학습률을 주게되면 발산한다.\n",
    "optimizer = torch.optim.SGD(model.parameters(), lr=1e-5)\n",
    "\n",
    "epochs = 2000 \n",
    "for e in range(epochs + 1) :\n",
    "    \n",
    "    prediction = model(x_train)\n",
    "    \n",
    "    cost = F.mse_loss(prediction, y_train)\n",
    "    \n",
    "    optimizer.zero_grad()\n",
    "    cost.backward()\n",
    "    optimizer.step()\n",
    "    \n",
    "    if e%100 == 0 :\n",
    "        print(\"epoch : {}/{} Cost : {:.6f}\".format(e, epochs, cost.item()))"
   ]
  },
  {
   "cell_type": "code",
   "execution_count": 29,
   "metadata": {},
   "outputs": [
    {
     "name": "stdout",
     "output_type": "stream",
     "text": [
      "예측 값 :  tensor([[151.2306]], grad_fn=<AddmmBackward>)\n"
     ]
    }
   ],
   "source": [
    "input = torch.FloatTensor([[73, 80, 75]])\n",
    "\n",
    "output = model(input)\n",
    "\n",
    "print(\"예측 값 : \", output)"
   ]
  },
  {
   "cell_type": "markdown",
   "metadata": {},
   "source": [
    "input값은 훈련에 사용한 값이다. 이 값의 y값은 152이다.\n",
    "\n",
    "model이 예측한 값이 151.2306이므로 상당히 근접한 숫자가 나왔다고 볼 수 있다.\n",
    "\n",
    "그러면 w, b도 역시 최적화가 되었다고 볼 수 있다."
   ]
  },
  {
   "cell_type": "code",
   "execution_count": 32,
   "metadata": {},
   "outputs": [
    {
     "name": "stdout",
     "output_type": "stream",
     "text": [
      "W, b 값\n",
      "[Parameter containing:\n",
      "tensor([[0.9778, 0.4539, 0.5768]], requires_grad=True), Parameter containing:\n",
      "tensor([0.2802], requires_grad=True)]\n"
     ]
    }
   ],
   "source": [
    "print(\"W, b 값\")\n",
    "print(list(model.parameters()))"
   ]
  },
  {
   "cell_type": "markdown",
   "metadata": {},
   "source": [
    "# 참조해서 조금 더 보기\n",
    "\n",
    "https://tutorials.pytorch.kr/beginner/pytorch_with_examples.html#tensorflow-static-graph\n",
    "https://www.geeksforgeeks.org/linear-regression-using-pytorch/\n",
    "https://www.yceffort.kr/2019/02/19/pytorch-02-linear-regression/"
   ]
  },
  {
   "cell_type": "code",
   "execution_count": null,
   "metadata": {},
   "outputs": [],
   "source": []
  }
 ],
 "metadata": {
  "kernelspec": {
   "display_name": "Python 3",
   "language": "python",
   "name": "python3"
  },
  "language_info": {
   "codemirror_mode": {
    "name": "ipython",
    "version": 3
   },
   "file_extension": ".py",
   "mimetype": "text/x-python",
   "name": "python",
   "nbconvert_exporter": "python",
   "pygments_lexer": "ipython3",
   "version": "3.7.6"
  }
 },
 "nbformat": 4,
 "nbformat_minor": 4
}
