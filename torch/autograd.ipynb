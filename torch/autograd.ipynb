{
 "cells": [
  {
   "cell_type": "markdown",
   "metadata": {},
   "source": [
    "# AUTOGARD : 자동미분\n",
    "#### autogard 패키지는 tensor의 모든 연산에 대해 자동 미분을 제공.\n",
    "    \n",
    "    tensor A 의 requires_gard 속성을 True로 설정한다면,\n",
    "    A에서 이뤄진 모든 연산들을 추적한다.\n",
    "    계산이 완료 후 .backward()를 호출하면 gradient를 자동으로 계산 할 수 있다.\n",
    "    default 는 false 이다.\n",
    "    \n",
    "    .requires_grad_(True or False) 하면 \n",
    "    기존의 만들어진 tensor의 requires_grad 값을 변경 할 수 있다.\n",
    "    \n",
    "    .detach()를 호출하면 연산 추적을 멈출 수 있다.\n",
    "    with torch.no_grad():로 감싸주면 해당 블럭 안에서는 기록 추적을 하지 않는다.\n",
    "    \n",
    "    tensor들은 .grad_fn() 속성을 가지고 있는데,\n",
    "    이것은 tensor를 생성한 function을 참조한다.\n",
    "    (function이라고 적었지만, 연산이 될 수도 있음)\n",
    "    어떠한 연산으로 tensor가 만들어졌는지를 표시해준다.\n",
    "    단, 사용자가 만든 tensor는 예외이고, 이 때 grad_fn = none 이다."
   ]
  },
  {
   "cell_type": "code",
   "execution_count": 32,
   "metadata": {},
   "outputs": [],
   "source": [
    "import torch"
   ]
  },
  {
   "cell_type": "code",
   "execution_count": 33,
   "metadata": {},
   "outputs": [
    {
     "name": "stdout",
     "output_type": "stream",
     "text": [
      "w 미분 값 : 8.0\n"
     ]
    }
   ],
   "source": [
    "w =  torch.tensor(2.0, requires_grad=True)\n",
    "\n",
    "y= w ** 2\n",
    "\n",
    "z = 2*y + 5\n",
    "\n",
    "z.backward()\n",
    "# z' = 2 * w^2 = 8\n",
    "\n",
    "print(\"w 미분 값 : {}\".format(w.grad))"
   ]
  },
  {
   "cell_type": "code",
   "execution_count": 38,
   "metadata": {},
   "outputs": [
    {
     "name": "stdout",
     "output_type": "stream",
     "text": [
      "tensor([[16., 16.],\n",
      "        [16., 16.]], grad_fn=<MulBackward0>)\n",
      "<MulBackward0 object at 0x000002374330F5C8>\n",
      "tensor(16., grad_fn=<MeanBackward0>)\n",
      "<MeanBackward0 object at 0x000002374330F5C8>\n"
     ]
    }
   ],
   "source": [
    "y = torch.tensor([[2.0, 2.0], [2.0, 2.0]], requires_grad=True)\n",
    "\n",
    "z = y * y * y * 2\n",
    "\n",
    "out = z.mean()\n",
    "print(z)\n",
    "print(z.grad_fn)\n",
    "print(out)\n",
    "print(out.grad_fn)"
   ]
  },
  {
   "cell_type": "code",
   "execution_count": 39,
   "metadata": {},
   "outputs": [
    {
     "name": "stdout",
     "output_type": "stream",
     "text": [
      "tensor([[6., 6.],\n",
      "        [6., 6.]])\n"
     ]
    }
   ],
   "source": [
    "# 마지막 연산의 output인 out.backward를 하면 관련 연산이 모두 미분됨\n",
    "out.backward()\n",
    "\n",
    "# y에 대한 미분값 도출\n",
    "# out = z.mean(), z = y^3 * 2  ==> z` = 3y \n",
    "print(y.grad)"
   ]
  },
  {
   "cell_type": "code",
   "execution_count": 58,
   "metadata": {},
   "outputs": [
    {
     "name": "stdout",
     "output_type": "stream",
     "text": [
      "tensor([0.4506, 0.6085], requires_grad=True)\n",
      "True\n",
      "False\n"
     ]
    }
   ],
   "source": [
    "x = torch.randn(2, requires_grad=True)\n",
    "print(x)\n",
    "\n",
    "\n",
    "print((x ** 2 * 2).requires_grad)\n",
    "\n",
    "with torch.no_grad():\n",
    "    print((x ** 2 * 2).requires_grad)"
   ]
  },
  {
   "cell_type": "code",
   "execution_count": 61,
   "metadata": {},
   "outputs": [
    {
     "name": "stdout",
     "output_type": "stream",
     "text": [
      "True\n",
      "False\n",
      "tensor(True)\n"
     ]
    }
   ],
   "source": [
    "print(x.requires_grad)\n",
    "y = x. detach()\n",
    "print(y.requires_grad)\n",
    "print(x.eq(y).all())\n",
    "# x, y를 비교해서 같은 값을 출력. .all()이므로 전체 부분이 같으면 true 출력"
   ]
  },
  {
   "cell_type": "code",
   "execution_count": null,
   "metadata": {},
   "outputs": [],
   "source": []
  }
 ],
 "metadata": {
  "kernelspec": {
   "display_name": "Python 3",
   "language": "python",
   "name": "python3"
  },
  "language_info": {
   "codemirror_mode": {
    "name": "ipython",
    "version": 3
   },
   "file_extension": ".py",
   "mimetype": "text/x-python",
   "name": "python",
   "nbconvert_exporter": "python",
   "pygments_lexer": "ipython3",
   "version": "3.7.6"
  }
 },
 "nbformat": 4,
 "nbformat_minor": 4
}
