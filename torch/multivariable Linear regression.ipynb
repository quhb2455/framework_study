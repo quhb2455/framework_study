{
 "cells": [
  {
   "cell_type": "code",
   "execution_count": 3,
   "metadata": {},
   "outputs": [
    {
     "data": {
      "text/plain": [
       "<torch._C.Generator at 0x1d4fc4c8850>"
      ]
     },
     "execution_count": 3,
     "metadata": {},
     "output_type": "execute_result"
    }
   ],
   "source": [
    "import torch\n",
    "import torch.nn as nn\n",
    "import torch.nn.functional as F\n",
    "import torch.optim as optim\n",
    "\n",
    "torch.manual_seed(1)\n"
   ]
  },
  {
   "cell_type": "code",
   "execution_count": 11,
   "metadata": {},
   "outputs": [],
   "source": [
    "x1_train = torch.FloatTensor([[73], [93], [89], [96], [73]])\n",
    "x2_train = torch.FloatTensor([[80], [88], [91], [98], [66]])\n",
    "x3_train = torch.FloatTensor([[75], [93], [90], [100], [70]])\n",
    "y_train = torch.FloatTensor([[152], [185], [180], [196], [142]])\n",
    "\n",
    "w1 = torch.zeros(1, requires_grad = True)\n",
    "w2 = torch.zeros(1, requires_grad = True)\n",
    "w3 = torch.zeros(1, requires_grad = True)\n",
    "b = torch.zeros(1, requires_grad = True)"
   ]
  },
  {
   "cell_type": "code",
   "execution_count": 12,
   "metadata": {
    "scrolled": true
   },
   "outputs": [
    {
     "name": "stdout",
     "output_type": "stream",
     "text": [
      "Epoch :    0/1000  w1 : 0.294  w2 : 0.294  w3 : 0.297  b : 0.003  cost : 29661.801\n",
      "Epoch :  100/1000  w1 : 0.674  w2 : 0.661  w3 : 0.676  b : 0.008  cost : 1.564\n",
      "Epoch :  200/1000  w1 : 0.679  w2 : 0.655  w3 : 0.677  b : 0.008  cost : 1.498\n",
      "Epoch :  300/1000  w1 : 0.684  w2 : 0.649  w3 : 0.677  b : 0.008  cost : 1.435\n",
      "Epoch :  400/1000  w1 : 0.689  w2 : 0.643  w3 : 0.678  b : 0.008  cost : 1.376\n",
      "Epoch :  500/1000  w1 : 0.694  w2 : 0.638  w3 : 0.678  b : 0.009  cost : 1.320\n",
      "Epoch :  600/1000  w1 : 0.699  w2 : 0.633  w3 : 0.679  b : 0.009  cost : 1.266\n",
      "Epoch :  700/1000  w1 : 0.704  w2 : 0.627  w3 : 0.679  b : 0.009  cost : 1.216\n",
      "Epoch :  800/1000  w1 : 0.709  w2 : 0.622  w3 : 0.679  b : 0.009  cost : 1.168\n",
      "Epoch :  900/1000  w1 : 0.713  w2 : 0.617  w3 : 0.680  b : 0.009  cost : 1.122\n",
      "Epoch : 1000/1000  w1 : 0.718  w2 : 0.613  w3 : 0.680  b : 0.009  cost : 1.079\n"
     ]
    }
   ],
   "source": [
    "optimizer = optim.SGD([w1, w2, w3, b], lr=1e-5)\n",
    "\n",
    "epochs = 1000\n",
    "\n",
    "for e in range(epochs + 1) :\n",
    "    hypothesis = x1_train*w1 + x2_train*w2 + x3_train*w3 + b\n",
    "    \n",
    "    cost = torch.mean((hypothesis - y_train)**2)\n",
    "    \n",
    "    optimizer.zero_grad()\n",
    "    cost.backward()\n",
    "    optimizer.step()\n",
    "    \n",
    "    if e % 100 == 0:\n",
    "        print('Epoch : {:4d}/{}  w1 : {:.3f}  w2 : {:.3f}  w3 : {:.3f}  b : {:.3f}  cost : {:.3f}'.format(\n",
    "        e, epochs, w1.item(), w2.item(), w3.item(), b.item(), cost.item()))"
   ]
  },
  {
   "attachments": {
    "image.png": {
     "image/png": "[encoded data removed]"
    }
   },
   "cell_type": "markdown",
   "metadata": {},
   "source": [
    "만약 x가 1000개고 w가 1000개면 각각 1000개씩 선언하고 \n",
    "식을 적을 때도 곱셈을 1000번을 적어야한다.\n",
    "\n",
    "이런 비효율적인 측면을 없애기 위해 행렬 곱셈 연산을 사용함\n",
    "![image.png](attachment:image.png)"
   ]
  },
  {
   "cell_type": "code",
   "execution_count": 19,
   "metadata": {},
   "outputs": [
    {
     "name": "stdout",
     "output_type": "stream",
     "text": [
      "torch.Size([5, 3])\n",
      "torch.Size([5, 1])\n"
     ]
    }
   ],
   "source": [
    "x_train  =  torch.FloatTensor([[73,  80,  75], \n",
    "                               [93,  88,  93], \n",
    "                               [89,  91,  80], \n",
    "                               [96,  98,  100],   \n",
    "                               [73,  66,  70]])  \n",
    "\n",
    "y_train  =  torch.FloatTensor([[152],  \n",
    "                               [185],  \n",
    "                               [180],  \n",
    "                               [196],  \n",
    "                               [142]])\n",
    "\n",
    "print(x_train.shape)\n",
    "print(y_train.shape)"
   ]
  },
  {
   "cell_type": "code",
   "execution_count": 20,
   "metadata": {},
   "outputs": [],
   "source": [
    "W = torch.zeros((3, 1), requires_grad=True)\n",
    "b = torch.zeros(1, requires_grad=True)\n",
    "\n",
    "# matmul() => 행렬 곱셈\n",
    "hypothesis = x_train.matmul(W) + b"
   ]
  },
  {
   "cell_type": "code",
   "execution_count": 22,
   "metadata": {},
   "outputs": [
    {
     "name": "stdout",
     "output_type": "stream",
     "text": [
      "Epoch :    0/1000  w1 : 0.718  w2 : 0.613  w3 : 0.680  b : 0.005  cost : 9537.694\n",
      "Epoch :  100/1000  w1 : 0.718  w2 : 0.613  w3 : 0.680  b : 0.008  cost : 5.752\n",
      "Epoch :  200/1000  w1 : 0.718  w2 : 0.613  w3 : 0.680  b : 0.008  cost : 5.510\n",
      "Epoch :  300/1000  w1 : 0.718  w2 : 0.613  w3 : 0.680  b : 0.008  cost : 5.279\n",
      "Epoch :  400/1000  w1 : 0.718  w2 : 0.613  w3 : 0.680  b : 0.008  cost : 5.060\n",
      "Epoch :  500/1000  w1 : 0.718  w2 : 0.613  w3 : 0.680  b : 0.008  cost : 4.850\n",
      "Epoch :  600/1000  w1 : 0.718  w2 : 0.613  w3 : 0.680  b : 0.008  cost : 4.651\n",
      "Epoch :  700/1000  w1 : 0.718  w2 : 0.613  w3 : 0.680  b : 0.009  cost : 4.460\n",
      "Epoch :  800/1000  w1 : 0.718  w2 : 0.613  w3 : 0.680  b : 0.009  cost : 4.279\n",
      "Epoch :  900/1000  w1 : 0.718  w2 : 0.613  w3 : 0.680  b : 0.009  cost : 4.106\n",
      "Epoch : 1000/1000  w1 : 0.718  w2 : 0.613  w3 : 0.680  b : 0.009  cost : 3.940\n"
     ]
    }
   ],
   "source": [
    "optimizer = optim.SGD([W, b], lr = 1e-5)\n",
    "\n",
    "epochs = 1000\n",
    "for e in range(epochs + 1) :\n",
    "    hypothesis = x_train.matmul(W) + b\n",
    "    \n",
    "    cost = torch.mean((hypothesis - y_train) ** 2)\n",
    "    \n",
    "    optimizer.zero_grad()\n",
    "    cost.backward()\n",
    "    optimizer.step()\n",
    "    \n",
    "    if e % 100 == 0:\n",
    "        print('Epoch : {:4d}/{}  w1 : {:.3f}  w2 : {:.3f}  w3 : {:.3f}  b : {:.3f}  cost : {:.3f}'.format(\n",
    "        e, epochs, w1.item(), w2.item(), w3.item(), b.item(), cost.item()))"
   ]
  },
  {
   "cell_type": "markdown",
   "metadata": {},
   "source": [
    "CNN에서 convolution을 통과한 output은 높은 차원의 배열값이 된다.\n",
    "그리고 output과 대응되는 weight들도 엄청나게 많은 값이 있을 것이다.\n",
    "\n",
    "이것을 행렬로 표현하게되면 위의 예처럼 아주 쉽게 표현이 된다!\n"
   ]
  },
  {
   "cell_type": "code",
   "execution_count": null,
   "metadata": {},
   "outputs": [],
   "source": []
  }
 ],
 "metadata": {
  "kernelspec": {
   "display_name": "Python 3",
   "language": "python",
   "name": "python3"
  },
  "language_info": {
   "codemirror_mode": {
    "name": "ipython",
    "version": 3
   },
   "file_extension": ".py",
   "mimetype": "text/x-python",
   "name": "python",
   "nbconvert_exporter": "python",
   "pygments_lexer": "ipython3",
   "version": "3.7.6"
  }
 },
 "nbformat": 4,
 "nbformat_minor": 4
}
